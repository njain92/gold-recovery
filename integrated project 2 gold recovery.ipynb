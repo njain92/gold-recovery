{
 "cells": [
  {
   "cell_type": "code",
   "execution_count": 63,
   "metadata": {},
   "outputs": [],
   "source": [
    "import pandas as pd\n",
    "import matplotlib.pyplot as plt\n",
    "from sklearn.metrics import mean_absolute_error,make_scorer\n",
    "from sklearn.preprocessing import StandardScaler\n",
    "from sklearn.linear_model import LinearRegression\n",
    "from sklearn.ensemble import RandomForestRegressor\n",
    "from sklearn.model_selection import cross_val_score\n",
    "from sklearn.dummy import DummyRegressor\n",
    "import numpy as np"
   ]
  },
  {
   "cell_type": "code",
   "execution_count": 64,
   "metadata": {},
   "outputs": [],
   "source": [
    "train_data=pd.read_csv('/datasets/gold_recovery_train.csv')\n",
    "test_data=pd.read_csv('/datasets/gold_recovery_test.csv')\n",
    "full_data=pd.read_csv('/datasets/gold_recovery_full.csv')"
   ]
  },
  {
   "cell_type": "code",
   "execution_count": 65,
   "metadata": {},
   "outputs": [
    {
     "data": {
      "text/html": [
       "<div>\n",
       "<style scoped>\n",
       "    .dataframe tbody tr th:only-of-type {\n",
       "        vertical-align: middle;\n",
       "    }\n",
       "\n",
       "    .dataframe tbody tr th {\n",
       "        vertical-align: top;\n",
       "    }\n",
       "\n",
       "    .dataframe thead th {\n",
       "        text-align: right;\n",
       "    }\n",
       "</style>\n",
       "<table border=\"1\" class=\"dataframe\">\n",
       "  <thead>\n",
       "    <tr style=\"text-align: right;\">\n",
       "      <th></th>\n",
       "      <th>date</th>\n",
       "      <th>final.output.concentrate_ag</th>\n",
       "      <th>final.output.concentrate_pb</th>\n",
       "      <th>final.output.concentrate_sol</th>\n",
       "      <th>final.output.concentrate_au</th>\n",
       "      <th>final.output.recovery</th>\n",
       "      <th>final.output.tail_ag</th>\n",
       "      <th>final.output.tail_pb</th>\n",
       "      <th>final.output.tail_sol</th>\n",
       "      <th>final.output.tail_au</th>\n",
       "      <th>...</th>\n",
       "      <th>secondary_cleaner.state.floatbank4_a_air</th>\n",
       "      <th>secondary_cleaner.state.floatbank4_a_level</th>\n",
       "      <th>secondary_cleaner.state.floatbank4_b_air</th>\n",
       "      <th>secondary_cleaner.state.floatbank4_b_level</th>\n",
       "      <th>secondary_cleaner.state.floatbank5_a_air</th>\n",
       "      <th>secondary_cleaner.state.floatbank5_a_level</th>\n",
       "      <th>secondary_cleaner.state.floatbank5_b_air</th>\n",
       "      <th>secondary_cleaner.state.floatbank5_b_level</th>\n",
       "      <th>secondary_cleaner.state.floatbank6_a_air</th>\n",
       "      <th>secondary_cleaner.state.floatbank6_a_level</th>\n",
       "    </tr>\n",
       "  </thead>\n",
       "  <tbody>\n",
       "    <tr>\n",
       "      <td>0</td>\n",
       "      <td>2016-01-15 00:00:00</td>\n",
       "      <td>6.055403</td>\n",
       "      <td>9.889648</td>\n",
       "      <td>5.507324</td>\n",
       "      <td>42.192020</td>\n",
       "      <td>70.541216</td>\n",
       "      <td>10.411962</td>\n",
       "      <td>0.895447</td>\n",
       "      <td>16.904297</td>\n",
       "      <td>2.143149</td>\n",
       "      <td>...</td>\n",
       "      <td>14.016835</td>\n",
       "      <td>-502.488007</td>\n",
       "      <td>12.099931</td>\n",
       "      <td>-504.715942</td>\n",
       "      <td>9.925633</td>\n",
       "      <td>-498.310211</td>\n",
       "      <td>8.079666</td>\n",
       "      <td>-500.470978</td>\n",
       "      <td>14.151341</td>\n",
       "      <td>-605.841980</td>\n",
       "    </tr>\n",
       "    <tr>\n",
       "      <td>1</td>\n",
       "      <td>2016-01-15 01:00:00</td>\n",
       "      <td>6.029369</td>\n",
       "      <td>9.968944</td>\n",
       "      <td>5.257781</td>\n",
       "      <td>42.701629</td>\n",
       "      <td>69.266198</td>\n",
       "      <td>10.462676</td>\n",
       "      <td>0.927452</td>\n",
       "      <td>16.634514</td>\n",
       "      <td>2.224930</td>\n",
       "      <td>...</td>\n",
       "      <td>13.992281</td>\n",
       "      <td>-505.503262</td>\n",
       "      <td>11.950531</td>\n",
       "      <td>-501.331529</td>\n",
       "      <td>10.039245</td>\n",
       "      <td>-500.169983</td>\n",
       "      <td>7.984757</td>\n",
       "      <td>-500.582168</td>\n",
       "      <td>13.998353</td>\n",
       "      <td>-599.787184</td>\n",
       "    </tr>\n",
       "    <tr>\n",
       "      <td>2</td>\n",
       "      <td>2016-01-15 02:00:00</td>\n",
       "      <td>6.055926</td>\n",
       "      <td>10.213995</td>\n",
       "      <td>5.383759</td>\n",
       "      <td>42.657501</td>\n",
       "      <td>68.116445</td>\n",
       "      <td>10.507046</td>\n",
       "      <td>0.953716</td>\n",
       "      <td>16.208849</td>\n",
       "      <td>2.257889</td>\n",
       "      <td>...</td>\n",
       "      <td>14.015015</td>\n",
       "      <td>-502.520901</td>\n",
       "      <td>11.912783</td>\n",
       "      <td>-501.133383</td>\n",
       "      <td>10.070913</td>\n",
       "      <td>-500.129135</td>\n",
       "      <td>8.013877</td>\n",
       "      <td>-500.517572</td>\n",
       "      <td>14.028663</td>\n",
       "      <td>-601.427363</td>\n",
       "    </tr>\n",
       "    <tr>\n",
       "      <td>3</td>\n",
       "      <td>2016-01-15 03:00:00</td>\n",
       "      <td>6.047977</td>\n",
       "      <td>9.977019</td>\n",
       "      <td>4.858634</td>\n",
       "      <td>42.689819</td>\n",
       "      <td>68.347543</td>\n",
       "      <td>10.422762</td>\n",
       "      <td>0.883763</td>\n",
       "      <td>16.532835</td>\n",
       "      <td>2.146849</td>\n",
       "      <td>...</td>\n",
       "      <td>14.036510</td>\n",
       "      <td>-500.857308</td>\n",
       "      <td>11.999550</td>\n",
       "      <td>-501.193686</td>\n",
       "      <td>9.970366</td>\n",
       "      <td>-499.201640</td>\n",
       "      <td>7.977324</td>\n",
       "      <td>-500.255908</td>\n",
       "      <td>14.005551</td>\n",
       "      <td>-599.996129</td>\n",
       "    </tr>\n",
       "    <tr>\n",
       "      <td>4</td>\n",
       "      <td>2016-01-15 04:00:00</td>\n",
       "      <td>6.148599</td>\n",
       "      <td>10.142511</td>\n",
       "      <td>4.939416</td>\n",
       "      <td>42.774141</td>\n",
       "      <td>66.927016</td>\n",
       "      <td>10.360302</td>\n",
       "      <td>0.792826</td>\n",
       "      <td>16.525686</td>\n",
       "      <td>2.055292</td>\n",
       "      <td>...</td>\n",
       "      <td>14.027298</td>\n",
       "      <td>-499.838632</td>\n",
       "      <td>11.953070</td>\n",
       "      <td>-501.053894</td>\n",
       "      <td>9.925709</td>\n",
       "      <td>-501.686727</td>\n",
       "      <td>7.894242</td>\n",
       "      <td>-500.356035</td>\n",
       "      <td>13.996647</td>\n",
       "      <td>-601.496691</td>\n",
       "    </tr>\n",
       "  </tbody>\n",
       "</table>\n",
       "<p>5 rows × 87 columns</p>\n",
       "</div>"
      ],
      "text/plain": [
       "                  date  final.output.concentrate_ag  \\\n",
       "0  2016-01-15 00:00:00                     6.055403   \n",
       "1  2016-01-15 01:00:00                     6.029369   \n",
       "2  2016-01-15 02:00:00                     6.055926   \n",
       "3  2016-01-15 03:00:00                     6.047977   \n",
       "4  2016-01-15 04:00:00                     6.148599   \n",
       "\n",
       "   final.output.concentrate_pb  final.output.concentrate_sol  \\\n",
       "0                     9.889648                      5.507324   \n",
       "1                     9.968944                      5.257781   \n",
       "2                    10.213995                      5.383759   \n",
       "3                     9.977019                      4.858634   \n",
       "4                    10.142511                      4.939416   \n",
       "\n",
       "   final.output.concentrate_au  final.output.recovery  final.output.tail_ag  \\\n",
       "0                    42.192020              70.541216             10.411962   \n",
       "1                    42.701629              69.266198             10.462676   \n",
       "2                    42.657501              68.116445             10.507046   \n",
       "3                    42.689819              68.347543             10.422762   \n",
       "4                    42.774141              66.927016             10.360302   \n",
       "\n",
       "   final.output.tail_pb  final.output.tail_sol  final.output.tail_au  ...  \\\n",
       "0              0.895447              16.904297              2.143149  ...   \n",
       "1              0.927452              16.634514              2.224930  ...   \n",
       "2              0.953716              16.208849              2.257889  ...   \n",
       "3              0.883763              16.532835              2.146849  ...   \n",
       "4              0.792826              16.525686              2.055292  ...   \n",
       "\n",
       "   secondary_cleaner.state.floatbank4_a_air  \\\n",
       "0                                 14.016835   \n",
       "1                                 13.992281   \n",
       "2                                 14.015015   \n",
       "3                                 14.036510   \n",
       "4                                 14.027298   \n",
       "\n",
       "   secondary_cleaner.state.floatbank4_a_level  \\\n",
       "0                                 -502.488007   \n",
       "1                                 -505.503262   \n",
       "2                                 -502.520901   \n",
       "3                                 -500.857308   \n",
       "4                                 -499.838632   \n",
       "\n",
       "   secondary_cleaner.state.floatbank4_b_air  \\\n",
       "0                                 12.099931   \n",
       "1                                 11.950531   \n",
       "2                                 11.912783   \n",
       "3                                 11.999550   \n",
       "4                                 11.953070   \n",
       "\n",
       "   secondary_cleaner.state.floatbank4_b_level  \\\n",
       "0                                 -504.715942   \n",
       "1                                 -501.331529   \n",
       "2                                 -501.133383   \n",
       "3                                 -501.193686   \n",
       "4                                 -501.053894   \n",
       "\n",
       "   secondary_cleaner.state.floatbank5_a_air  \\\n",
       "0                                  9.925633   \n",
       "1                                 10.039245   \n",
       "2                                 10.070913   \n",
       "3                                  9.970366   \n",
       "4                                  9.925709   \n",
       "\n",
       "   secondary_cleaner.state.floatbank5_a_level  \\\n",
       "0                                 -498.310211   \n",
       "1                                 -500.169983   \n",
       "2                                 -500.129135   \n",
       "3                                 -499.201640   \n",
       "4                                 -501.686727   \n",
       "\n",
       "   secondary_cleaner.state.floatbank5_b_air  \\\n",
       "0                                  8.079666   \n",
       "1                                  7.984757   \n",
       "2                                  8.013877   \n",
       "3                                  7.977324   \n",
       "4                                  7.894242   \n",
       "\n",
       "   secondary_cleaner.state.floatbank5_b_level  \\\n",
       "0                                 -500.470978   \n",
       "1                                 -500.582168   \n",
       "2                                 -500.517572   \n",
       "3                                 -500.255908   \n",
       "4                                 -500.356035   \n",
       "\n",
       "   secondary_cleaner.state.floatbank6_a_air  \\\n",
       "0                                 14.151341   \n",
       "1                                 13.998353   \n",
       "2                                 14.028663   \n",
       "3                                 14.005551   \n",
       "4                                 13.996647   \n",
       "\n",
       "   secondary_cleaner.state.floatbank6_a_level  \n",
       "0                                 -605.841980  \n",
       "1                                 -599.787184  \n",
       "2                                 -601.427363  \n",
       "3                                 -599.996129  \n",
       "4                                 -601.496691  \n",
       "\n",
       "[5 rows x 87 columns]"
      ]
     },
     "execution_count": 65,
     "metadata": {},
     "output_type": "execute_result"
    }
   ],
   "source": [
    "train_data.head()"
   ]
  },
  {
   "cell_type": "code",
   "execution_count": 66,
   "metadata": {},
   "outputs": [],
   "source": [
    "train_data.info()"
   ]
  },
  {
   "cell_type": "code",
   "execution_count": 67,
   "metadata": {},
   "outputs": [
    {
     "data": {
      "text/html": [
       "<div>\n",
       "<style scoped>\n",
       "    .dataframe tbody tr th:only-of-type {\n",
       "        vertical-align: middle;\n",
       "    }\n",
       "\n",
       "    .dataframe tbody tr th {\n",
       "        vertical-align: top;\n",
       "    }\n",
       "\n",
       "    .dataframe thead th {\n",
       "        text-align: right;\n",
       "    }\n",
       "</style>\n",
       "<table border=\"1\" class=\"dataframe\">\n",
       "  <thead>\n",
       "    <tr style=\"text-align: right;\">\n",
       "      <th></th>\n",
       "      <th>date</th>\n",
       "      <th>primary_cleaner.input.sulfate</th>\n",
       "      <th>primary_cleaner.input.depressant</th>\n",
       "      <th>primary_cleaner.input.feed_size</th>\n",
       "      <th>primary_cleaner.input.xanthate</th>\n",
       "      <th>primary_cleaner.state.floatbank8_a_air</th>\n",
       "      <th>primary_cleaner.state.floatbank8_a_level</th>\n",
       "      <th>primary_cleaner.state.floatbank8_b_air</th>\n",
       "      <th>primary_cleaner.state.floatbank8_b_level</th>\n",
       "      <th>primary_cleaner.state.floatbank8_c_air</th>\n",
       "      <th>...</th>\n",
       "      <th>secondary_cleaner.state.floatbank4_a_air</th>\n",
       "      <th>secondary_cleaner.state.floatbank4_a_level</th>\n",
       "      <th>secondary_cleaner.state.floatbank4_b_air</th>\n",
       "      <th>secondary_cleaner.state.floatbank4_b_level</th>\n",
       "      <th>secondary_cleaner.state.floatbank5_a_air</th>\n",
       "      <th>secondary_cleaner.state.floatbank5_a_level</th>\n",
       "      <th>secondary_cleaner.state.floatbank5_b_air</th>\n",
       "      <th>secondary_cleaner.state.floatbank5_b_level</th>\n",
       "      <th>secondary_cleaner.state.floatbank6_a_air</th>\n",
       "      <th>secondary_cleaner.state.floatbank6_a_level</th>\n",
       "    </tr>\n",
       "  </thead>\n",
       "  <tbody>\n",
       "    <tr>\n",
       "      <td>0</td>\n",
       "      <td>2016-09-01 00:59:59</td>\n",
       "      <td>210.800909</td>\n",
       "      <td>14.993118</td>\n",
       "      <td>8.080000</td>\n",
       "      <td>1.005021</td>\n",
       "      <td>1398.981301</td>\n",
       "      <td>-500.225577</td>\n",
       "      <td>1399.144926</td>\n",
       "      <td>-499.919735</td>\n",
       "      <td>1400.102998</td>\n",
       "      <td>...</td>\n",
       "      <td>12.023554</td>\n",
       "      <td>-497.795834</td>\n",
       "      <td>8.016656</td>\n",
       "      <td>-501.289139</td>\n",
       "      <td>7.946562</td>\n",
       "      <td>-432.317850</td>\n",
       "      <td>4.872511</td>\n",
       "      <td>-500.037437</td>\n",
       "      <td>26.705889</td>\n",
       "      <td>-499.709414</td>\n",
       "    </tr>\n",
       "    <tr>\n",
       "      <td>1</td>\n",
       "      <td>2016-09-01 01:59:59</td>\n",
       "      <td>215.392455</td>\n",
       "      <td>14.987471</td>\n",
       "      <td>8.080000</td>\n",
       "      <td>0.990469</td>\n",
       "      <td>1398.777912</td>\n",
       "      <td>-500.057435</td>\n",
       "      <td>1398.055362</td>\n",
       "      <td>-499.778182</td>\n",
       "      <td>1396.151033</td>\n",
       "      <td>...</td>\n",
       "      <td>12.058140</td>\n",
       "      <td>-498.695773</td>\n",
       "      <td>8.130979</td>\n",
       "      <td>-499.634209</td>\n",
       "      <td>7.958270</td>\n",
       "      <td>-525.839648</td>\n",
       "      <td>4.878850</td>\n",
       "      <td>-500.162375</td>\n",
       "      <td>25.019940</td>\n",
       "      <td>-499.819438</td>\n",
       "    </tr>\n",
       "    <tr>\n",
       "      <td>2</td>\n",
       "      <td>2016-09-01 02:59:59</td>\n",
       "      <td>215.259946</td>\n",
       "      <td>12.884934</td>\n",
       "      <td>7.786667</td>\n",
       "      <td>0.996043</td>\n",
       "      <td>1398.493666</td>\n",
       "      <td>-500.868360</td>\n",
       "      <td>1398.860436</td>\n",
       "      <td>-499.764529</td>\n",
       "      <td>1398.075709</td>\n",
       "      <td>...</td>\n",
       "      <td>11.962366</td>\n",
       "      <td>-498.767484</td>\n",
       "      <td>8.096893</td>\n",
       "      <td>-500.827423</td>\n",
       "      <td>8.071056</td>\n",
       "      <td>-500.801673</td>\n",
       "      <td>4.905125</td>\n",
       "      <td>-499.828510</td>\n",
       "      <td>24.994862</td>\n",
       "      <td>-500.622559</td>\n",
       "    </tr>\n",
       "    <tr>\n",
       "      <td>3</td>\n",
       "      <td>2016-09-01 03:59:59</td>\n",
       "      <td>215.336236</td>\n",
       "      <td>12.006805</td>\n",
       "      <td>7.640000</td>\n",
       "      <td>0.863514</td>\n",
       "      <td>1399.618111</td>\n",
       "      <td>-498.863574</td>\n",
       "      <td>1397.440120</td>\n",
       "      <td>-499.211024</td>\n",
       "      <td>1400.129303</td>\n",
       "      <td>...</td>\n",
       "      <td>12.033091</td>\n",
       "      <td>-498.350935</td>\n",
       "      <td>8.074946</td>\n",
       "      <td>-499.474407</td>\n",
       "      <td>7.897085</td>\n",
       "      <td>-500.868509</td>\n",
       "      <td>4.931400</td>\n",
       "      <td>-499.963623</td>\n",
       "      <td>24.948919</td>\n",
       "      <td>-498.709987</td>\n",
       "    </tr>\n",
       "    <tr>\n",
       "      <td>4</td>\n",
       "      <td>2016-09-01 04:59:59</td>\n",
       "      <td>199.099327</td>\n",
       "      <td>10.682530</td>\n",
       "      <td>7.530000</td>\n",
       "      <td>0.805575</td>\n",
       "      <td>1401.268123</td>\n",
       "      <td>-500.808305</td>\n",
       "      <td>1398.128818</td>\n",
       "      <td>-499.504543</td>\n",
       "      <td>1402.172226</td>\n",
       "      <td>...</td>\n",
       "      <td>12.025367</td>\n",
       "      <td>-500.786497</td>\n",
       "      <td>8.054678</td>\n",
       "      <td>-500.397500</td>\n",
       "      <td>8.107890</td>\n",
       "      <td>-509.526725</td>\n",
       "      <td>4.957674</td>\n",
       "      <td>-500.360026</td>\n",
       "      <td>25.003331</td>\n",
       "      <td>-500.856333</td>\n",
       "    </tr>\n",
       "  </tbody>\n",
       "</table>\n",
       "<p>5 rows × 53 columns</p>\n",
       "</div>"
      ],
      "text/plain": [
       "                  date  primary_cleaner.input.sulfate  \\\n",
       "0  2016-09-01 00:59:59                     210.800909   \n",
       "1  2016-09-01 01:59:59                     215.392455   \n",
       "2  2016-09-01 02:59:59                     215.259946   \n",
       "3  2016-09-01 03:59:59                     215.336236   \n",
       "4  2016-09-01 04:59:59                     199.099327   \n",
       "\n",
       "   primary_cleaner.input.depressant  primary_cleaner.input.feed_size  \\\n",
       "0                         14.993118                         8.080000   \n",
       "1                         14.987471                         8.080000   \n",
       "2                         12.884934                         7.786667   \n",
       "3                         12.006805                         7.640000   \n",
       "4                         10.682530                         7.530000   \n",
       "\n",
       "   primary_cleaner.input.xanthate  primary_cleaner.state.floatbank8_a_air  \\\n",
       "0                        1.005021                             1398.981301   \n",
       "1                        0.990469                             1398.777912   \n",
       "2                        0.996043                             1398.493666   \n",
       "3                        0.863514                             1399.618111   \n",
       "4                        0.805575                             1401.268123   \n",
       "\n",
       "   primary_cleaner.state.floatbank8_a_level  \\\n",
       "0                               -500.225577   \n",
       "1                               -500.057435   \n",
       "2                               -500.868360   \n",
       "3                               -498.863574   \n",
       "4                               -500.808305   \n",
       "\n",
       "   primary_cleaner.state.floatbank8_b_air  \\\n",
       "0                             1399.144926   \n",
       "1                             1398.055362   \n",
       "2                             1398.860436   \n",
       "3                             1397.440120   \n",
       "4                             1398.128818   \n",
       "\n",
       "   primary_cleaner.state.floatbank8_b_level  \\\n",
       "0                               -499.919735   \n",
       "1                               -499.778182   \n",
       "2                               -499.764529   \n",
       "3                               -499.211024   \n",
       "4                               -499.504543   \n",
       "\n",
       "   primary_cleaner.state.floatbank8_c_air  ...  \\\n",
       "0                             1400.102998  ...   \n",
       "1                             1396.151033  ...   \n",
       "2                             1398.075709  ...   \n",
       "3                             1400.129303  ...   \n",
       "4                             1402.172226  ...   \n",
       "\n",
       "   secondary_cleaner.state.floatbank4_a_air  \\\n",
       "0                                 12.023554   \n",
       "1                                 12.058140   \n",
       "2                                 11.962366   \n",
       "3                                 12.033091   \n",
       "4                                 12.025367   \n",
       "\n",
       "   secondary_cleaner.state.floatbank4_a_level  \\\n",
       "0                                 -497.795834   \n",
       "1                                 -498.695773   \n",
       "2                                 -498.767484   \n",
       "3                                 -498.350935   \n",
       "4                                 -500.786497   \n",
       "\n",
       "   secondary_cleaner.state.floatbank4_b_air  \\\n",
       "0                                  8.016656   \n",
       "1                                  8.130979   \n",
       "2                                  8.096893   \n",
       "3                                  8.074946   \n",
       "4                                  8.054678   \n",
       "\n",
       "   secondary_cleaner.state.floatbank4_b_level  \\\n",
       "0                                 -501.289139   \n",
       "1                                 -499.634209   \n",
       "2                                 -500.827423   \n",
       "3                                 -499.474407   \n",
       "4                                 -500.397500   \n",
       "\n",
       "   secondary_cleaner.state.floatbank5_a_air  \\\n",
       "0                                  7.946562   \n",
       "1                                  7.958270   \n",
       "2                                  8.071056   \n",
       "3                                  7.897085   \n",
       "4                                  8.107890   \n",
       "\n",
       "   secondary_cleaner.state.floatbank5_a_level  \\\n",
       "0                                 -432.317850   \n",
       "1                                 -525.839648   \n",
       "2                                 -500.801673   \n",
       "3                                 -500.868509   \n",
       "4                                 -509.526725   \n",
       "\n",
       "   secondary_cleaner.state.floatbank5_b_air  \\\n",
       "0                                  4.872511   \n",
       "1                                  4.878850   \n",
       "2                                  4.905125   \n",
       "3                                  4.931400   \n",
       "4                                  4.957674   \n",
       "\n",
       "   secondary_cleaner.state.floatbank5_b_level  \\\n",
       "0                                 -500.037437   \n",
       "1                                 -500.162375   \n",
       "2                                 -499.828510   \n",
       "3                                 -499.963623   \n",
       "4                                 -500.360026   \n",
       "\n",
       "   secondary_cleaner.state.floatbank6_a_air  \\\n",
       "0                                 26.705889   \n",
       "1                                 25.019940   \n",
       "2                                 24.994862   \n",
       "3                                 24.948919   \n",
       "4                                 25.003331   \n",
       "\n",
       "   secondary_cleaner.state.floatbank6_a_level  \n",
       "0                                 -499.709414  \n",
       "1                                 -499.819438  \n",
       "2                                 -500.622559  \n",
       "3                                 -498.709987  \n",
       "4                                 -500.856333  \n",
       "\n",
       "[5 rows x 53 columns]"
      ]
     },
     "execution_count": 67,
     "metadata": {},
     "output_type": "execute_result"
    }
   ],
   "source": [
    "test_data.head()"
   ]
  },
  {
   "cell_type": "code",
   "execution_count": 68,
   "metadata": {},
   "outputs": [],
   "source": [
    "test_data.info()"
   ]
  },
  {
   "cell_type": "code",
   "execution_count": 69,
   "metadata": {},
   "outputs": [
    {
     "data": {
      "text/html": [
       "<div>\n",
       "<style scoped>\n",
       "    .dataframe tbody tr th:only-of-type {\n",
       "        vertical-align: middle;\n",
       "    }\n",
       "\n",
       "    .dataframe tbody tr th {\n",
       "        vertical-align: top;\n",
       "    }\n",
       "\n",
       "    .dataframe thead th {\n",
       "        text-align: right;\n",
       "    }\n",
       "</style>\n",
       "<table border=\"1\" class=\"dataframe\">\n",
       "  <thead>\n",
       "    <tr style=\"text-align: right;\">\n",
       "      <th></th>\n",
       "      <th>date</th>\n",
       "      <th>final.output.concentrate_ag</th>\n",
       "      <th>final.output.concentrate_pb</th>\n",
       "      <th>final.output.concentrate_sol</th>\n",
       "      <th>final.output.concentrate_au</th>\n",
       "      <th>final.output.recovery</th>\n",
       "      <th>final.output.tail_ag</th>\n",
       "      <th>final.output.tail_pb</th>\n",
       "      <th>final.output.tail_sol</th>\n",
       "      <th>final.output.tail_au</th>\n",
       "      <th>...</th>\n",
       "      <th>secondary_cleaner.state.floatbank4_a_air</th>\n",
       "      <th>secondary_cleaner.state.floatbank4_a_level</th>\n",
       "      <th>secondary_cleaner.state.floatbank4_b_air</th>\n",
       "      <th>secondary_cleaner.state.floatbank4_b_level</th>\n",
       "      <th>secondary_cleaner.state.floatbank5_a_air</th>\n",
       "      <th>secondary_cleaner.state.floatbank5_a_level</th>\n",
       "      <th>secondary_cleaner.state.floatbank5_b_air</th>\n",
       "      <th>secondary_cleaner.state.floatbank5_b_level</th>\n",
       "      <th>secondary_cleaner.state.floatbank6_a_air</th>\n",
       "      <th>secondary_cleaner.state.floatbank6_a_level</th>\n",
       "    </tr>\n",
       "  </thead>\n",
       "  <tbody>\n",
       "    <tr>\n",
       "      <td>0</td>\n",
       "      <td>2016-01-15 00:00:00</td>\n",
       "      <td>6.055403</td>\n",
       "      <td>9.889648</td>\n",
       "      <td>5.507324</td>\n",
       "      <td>42.192020</td>\n",
       "      <td>70.541216</td>\n",
       "      <td>10.411962</td>\n",
       "      <td>0.895447</td>\n",
       "      <td>16.904297</td>\n",
       "      <td>2.143149</td>\n",
       "      <td>...</td>\n",
       "      <td>14.016835</td>\n",
       "      <td>-502.488007</td>\n",
       "      <td>12.099931</td>\n",
       "      <td>-504.715942</td>\n",
       "      <td>9.925633</td>\n",
       "      <td>-498.310211</td>\n",
       "      <td>8.079666</td>\n",
       "      <td>-500.470978</td>\n",
       "      <td>14.151341</td>\n",
       "      <td>-605.841980</td>\n",
       "    </tr>\n",
       "    <tr>\n",
       "      <td>1</td>\n",
       "      <td>2016-01-15 01:00:00</td>\n",
       "      <td>6.029369</td>\n",
       "      <td>9.968944</td>\n",
       "      <td>5.257781</td>\n",
       "      <td>42.701629</td>\n",
       "      <td>69.266198</td>\n",
       "      <td>10.462676</td>\n",
       "      <td>0.927452</td>\n",
       "      <td>16.634514</td>\n",
       "      <td>2.224930</td>\n",
       "      <td>...</td>\n",
       "      <td>13.992281</td>\n",
       "      <td>-505.503262</td>\n",
       "      <td>11.950531</td>\n",
       "      <td>-501.331529</td>\n",
       "      <td>10.039245</td>\n",
       "      <td>-500.169983</td>\n",
       "      <td>7.984757</td>\n",
       "      <td>-500.582168</td>\n",
       "      <td>13.998353</td>\n",
       "      <td>-599.787184</td>\n",
       "    </tr>\n",
       "    <tr>\n",
       "      <td>2</td>\n",
       "      <td>2016-01-15 02:00:00</td>\n",
       "      <td>6.055926</td>\n",
       "      <td>10.213995</td>\n",
       "      <td>5.383759</td>\n",
       "      <td>42.657501</td>\n",
       "      <td>68.116445</td>\n",
       "      <td>10.507046</td>\n",
       "      <td>0.953716</td>\n",
       "      <td>16.208849</td>\n",
       "      <td>2.257889</td>\n",
       "      <td>...</td>\n",
       "      <td>14.015015</td>\n",
       "      <td>-502.520901</td>\n",
       "      <td>11.912783</td>\n",
       "      <td>-501.133383</td>\n",
       "      <td>10.070913</td>\n",
       "      <td>-500.129135</td>\n",
       "      <td>8.013877</td>\n",
       "      <td>-500.517572</td>\n",
       "      <td>14.028663</td>\n",
       "      <td>-601.427363</td>\n",
       "    </tr>\n",
       "    <tr>\n",
       "      <td>3</td>\n",
       "      <td>2016-01-15 03:00:00</td>\n",
       "      <td>6.047977</td>\n",
       "      <td>9.977019</td>\n",
       "      <td>4.858634</td>\n",
       "      <td>42.689819</td>\n",
       "      <td>68.347543</td>\n",
       "      <td>10.422762</td>\n",
       "      <td>0.883763</td>\n",
       "      <td>16.532835</td>\n",
       "      <td>2.146849</td>\n",
       "      <td>...</td>\n",
       "      <td>14.036510</td>\n",
       "      <td>-500.857308</td>\n",
       "      <td>11.999550</td>\n",
       "      <td>-501.193686</td>\n",
       "      <td>9.970366</td>\n",
       "      <td>-499.201640</td>\n",
       "      <td>7.977324</td>\n",
       "      <td>-500.255908</td>\n",
       "      <td>14.005551</td>\n",
       "      <td>-599.996129</td>\n",
       "    </tr>\n",
       "    <tr>\n",
       "      <td>4</td>\n",
       "      <td>2016-01-15 04:00:00</td>\n",
       "      <td>6.148599</td>\n",
       "      <td>10.142511</td>\n",
       "      <td>4.939416</td>\n",
       "      <td>42.774141</td>\n",
       "      <td>66.927016</td>\n",
       "      <td>10.360302</td>\n",
       "      <td>0.792826</td>\n",
       "      <td>16.525686</td>\n",
       "      <td>2.055292</td>\n",
       "      <td>...</td>\n",
       "      <td>14.027298</td>\n",
       "      <td>-499.838632</td>\n",
       "      <td>11.953070</td>\n",
       "      <td>-501.053894</td>\n",
       "      <td>9.925709</td>\n",
       "      <td>-501.686727</td>\n",
       "      <td>7.894242</td>\n",
       "      <td>-500.356035</td>\n",
       "      <td>13.996647</td>\n",
       "      <td>-601.496691</td>\n",
       "    </tr>\n",
       "  </tbody>\n",
       "</table>\n",
       "<p>5 rows × 87 columns</p>\n",
       "</div>"
      ],
      "text/plain": [
       "                  date  final.output.concentrate_ag  \\\n",
       "0  2016-01-15 00:00:00                     6.055403   \n",
       "1  2016-01-15 01:00:00                     6.029369   \n",
       "2  2016-01-15 02:00:00                     6.055926   \n",
       "3  2016-01-15 03:00:00                     6.047977   \n",
       "4  2016-01-15 04:00:00                     6.148599   \n",
       "\n",
       "   final.output.concentrate_pb  final.output.concentrate_sol  \\\n",
       "0                     9.889648                      5.507324   \n",
       "1                     9.968944                      5.257781   \n",
       "2                    10.213995                      5.383759   \n",
       "3                     9.977019                      4.858634   \n",
       "4                    10.142511                      4.939416   \n",
       "\n",
       "   final.output.concentrate_au  final.output.recovery  final.output.tail_ag  \\\n",
       "0                    42.192020              70.541216             10.411962   \n",
       "1                    42.701629              69.266198             10.462676   \n",
       "2                    42.657501              68.116445             10.507046   \n",
       "3                    42.689819              68.347543             10.422762   \n",
       "4                    42.774141              66.927016             10.360302   \n",
       "\n",
       "   final.output.tail_pb  final.output.tail_sol  final.output.tail_au  ...  \\\n",
       "0              0.895447              16.904297              2.143149  ...   \n",
       "1              0.927452              16.634514              2.224930  ...   \n",
       "2              0.953716              16.208849              2.257889  ...   \n",
       "3              0.883763              16.532835              2.146849  ...   \n",
       "4              0.792826              16.525686              2.055292  ...   \n",
       "\n",
       "   secondary_cleaner.state.floatbank4_a_air  \\\n",
       "0                                 14.016835   \n",
       "1                                 13.992281   \n",
       "2                                 14.015015   \n",
       "3                                 14.036510   \n",
       "4                                 14.027298   \n",
       "\n",
       "   secondary_cleaner.state.floatbank4_a_level  \\\n",
       "0                                 -502.488007   \n",
       "1                                 -505.503262   \n",
       "2                                 -502.520901   \n",
       "3                                 -500.857308   \n",
       "4                                 -499.838632   \n",
       "\n",
       "   secondary_cleaner.state.floatbank4_b_air  \\\n",
       "0                                 12.099931   \n",
       "1                                 11.950531   \n",
       "2                                 11.912783   \n",
       "3                                 11.999550   \n",
       "4                                 11.953070   \n",
       "\n",
       "   secondary_cleaner.state.floatbank4_b_level  \\\n",
       "0                                 -504.715942   \n",
       "1                                 -501.331529   \n",
       "2                                 -501.133383   \n",
       "3                                 -501.193686   \n",
       "4                                 -501.053894   \n",
       "\n",
       "   secondary_cleaner.state.floatbank5_a_air  \\\n",
       "0                                  9.925633   \n",
       "1                                 10.039245   \n",
       "2                                 10.070913   \n",
       "3                                  9.970366   \n",
       "4                                  9.925709   \n",
       "\n",
       "   secondary_cleaner.state.floatbank5_a_level  \\\n",
       "0                                 -498.310211   \n",
       "1                                 -500.169983   \n",
       "2                                 -500.129135   \n",
       "3                                 -499.201640   \n",
       "4                                 -501.686727   \n",
       "\n",
       "   secondary_cleaner.state.floatbank5_b_air  \\\n",
       "0                                  8.079666   \n",
       "1                                  7.984757   \n",
       "2                                  8.013877   \n",
       "3                                  7.977324   \n",
       "4                                  7.894242   \n",
       "\n",
       "   secondary_cleaner.state.floatbank5_b_level  \\\n",
       "0                                 -500.470978   \n",
       "1                                 -500.582168   \n",
       "2                                 -500.517572   \n",
       "3                                 -500.255908   \n",
       "4                                 -500.356035   \n",
       "\n",
       "   secondary_cleaner.state.floatbank6_a_air  \\\n",
       "0                                 14.151341   \n",
       "1                                 13.998353   \n",
       "2                                 14.028663   \n",
       "3                                 14.005551   \n",
       "4                                 13.996647   \n",
       "\n",
       "   secondary_cleaner.state.floatbank6_a_level  \n",
       "0                                 -605.841980  \n",
       "1                                 -599.787184  \n",
       "2                                 -601.427363  \n",
       "3                                 -599.996129  \n",
       "4                                 -601.496691  \n",
       "\n",
       "[5 rows x 87 columns]"
      ]
     },
     "execution_count": 69,
     "metadata": {},
     "output_type": "execute_result"
    }
   ],
   "source": [
    "full_data.head()"
   ]
  },
  {
   "cell_type": "code",
   "execution_count": 70,
   "metadata": {},
   "outputs": [],
   "source": [
    "full_data.info()"
   ]
  },
  {
   "cell_type": "code",
   "execution_count": 71,
   "metadata": {},
   "outputs": [
    {
     "data": {
      "text/plain": [
       "(16860, 87)"
      ]
     },
     "execution_count": 71,
     "metadata": {},
     "output_type": "execute_result"
    }
   ],
   "source": [
    "train_data.shape"
   ]
  },
  {
   "cell_type": "code",
   "execution_count": 72,
   "metadata": {},
   "outputs": [
    {
     "data": {
      "text/plain": [
       "(5856, 53)"
      ]
     },
     "execution_count": 72,
     "metadata": {},
     "output_type": "execute_result"
    }
   ],
   "source": [
    "test_data.shape"
   ]
  },
  {
   "cell_type": "code",
   "execution_count": 73,
   "metadata": {},
   "outputs": [
    {
     "data": {
      "text/plain": [
       "(22716, 87)"
      ]
     },
     "execution_count": 73,
     "metadata": {},
     "output_type": "execute_result"
    }
   ],
   "source": [
    "full_data.shape"
   ]
  },
  {
   "cell_type": "markdown",
   "metadata": {},
   "source": [
    "## Recovery calculation "
   ]
  },
  {
   "cell_type": "code",
   "execution_count": 74,
   "metadata": {},
   "outputs": [
    {
     "data": {
      "text/html": [
       "<div>\n",
       "<style scoped>\n",
       "    .dataframe tbody tr th:only-of-type {\n",
       "        vertical-align: middle;\n",
       "    }\n",
       "\n",
       "    .dataframe tbody tr th {\n",
       "        vertical-align: top;\n",
       "    }\n",
       "\n",
       "    .dataframe thead th {\n",
       "        text-align: right;\n",
       "    }\n",
       "</style>\n",
       "<table border=\"1\" class=\"dataframe\">\n",
       "  <thead>\n",
       "    <tr style=\"text-align: right;\">\n",
       "      <th></th>\n",
       "      <th>rougher.input.feed_au</th>\n",
       "      <th>rougher.output.concentrate_au</th>\n",
       "      <th>rougher.output.tail_au</th>\n",
       "      <th>rougher.output.recovery</th>\n",
       "    </tr>\n",
       "  </thead>\n",
       "  <tbody>\n",
       "    <tr>\n",
       "      <td>0</td>\n",
       "      <td>6.486150</td>\n",
       "      <td>19.793808</td>\n",
       "      <td>1.170244</td>\n",
       "      <td>87.107763</td>\n",
       "    </tr>\n",
       "    <tr>\n",
       "      <td>1</td>\n",
       "      <td>6.478583</td>\n",
       "      <td>20.050975</td>\n",
       "      <td>1.184827</td>\n",
       "      <td>86.843261</td>\n",
       "    </tr>\n",
       "    <tr>\n",
       "      <td>2</td>\n",
       "      <td>6.362222</td>\n",
       "      <td>19.737170</td>\n",
       "      <td>1.162562</td>\n",
       "      <td>86.842308</td>\n",
       "    </tr>\n",
       "    <tr>\n",
       "      <td>3</td>\n",
       "      <td>6.118189</td>\n",
       "      <td>19.320810</td>\n",
       "      <td>1.079755</td>\n",
       "      <td>87.226430</td>\n",
       "    </tr>\n",
       "    <tr>\n",
       "      <td>4</td>\n",
       "      <td>5.663707</td>\n",
       "      <td>19.216101</td>\n",
       "      <td>1.012642</td>\n",
       "      <td>86.688794</td>\n",
       "    </tr>\n",
       "  </tbody>\n",
       "</table>\n",
       "</div>"
      ],
      "text/plain": [
       "   rougher.input.feed_au  rougher.output.concentrate_au  \\\n",
       "0               6.486150                      19.793808   \n",
       "1               6.478583                      20.050975   \n",
       "2               6.362222                      19.737170   \n",
       "3               6.118189                      19.320810   \n",
       "4               5.663707                      19.216101   \n",
       "\n",
       "   rougher.output.tail_au  rougher.output.recovery  \n",
       "0                1.170244                87.107763  \n",
       "1                1.184827                86.843261  \n",
       "2                1.162562                86.842308  \n",
       "3                1.079755                87.226430  \n",
       "4                1.012642                86.688794  "
      ]
     },
     "execution_count": 74,
     "metadata": {},
     "output_type": "execute_result"
    }
   ],
   "source": [
    "train_data[['rougher.input.feed_au','rougher.output.concentrate_au','rougher.output.tail_au','rougher.output.recovery']].head()"
   ]
  },
  {
   "cell_type": "code",
   "execution_count": 75,
   "metadata": {},
   "outputs": [
    {
     "data": {
      "text/plain": [
       "0    87.107763\n",
       "1    86.843261\n",
       "2    86.842308\n",
       "3    87.226430\n",
       "4    86.688794\n",
       "Name: calculated_rougher_recovery, dtype: float64"
      ]
     },
     "execution_count": 75,
     "metadata": {},
     "output_type": "execute_result"
    }
   ],
   "source": [
    "c=train_data.loc[train_data['rougher.output.recovery'].notnull()]['rougher.output.concentrate_au']\n",
    "f=train_data.loc[train_data['rougher.output.recovery'].notnull()]['rougher.input.feed_au']\n",
    "t=train_data.loc[train_data['rougher.output.recovery'].notnull()]['rougher.output.tail_au']\n",
    "train_data['calculated_rougher_recovery']=(c*(f-t))/(f*(c-t))*100\n",
    "train_data['calculated_rougher_recovery'].head()"
   ]
  },
  {
   "cell_type": "code",
   "execution_count": 76,
   "metadata": {},
   "outputs": [
    {
     "data": {
      "text/plain": [
       "count    14287.000000\n",
       "mean        82.394201\n",
       "std         15.096808\n",
       "min          0.000000\n",
       "25%         79.818372\n",
       "50%         85.235997\n",
       "75%         90.131691\n",
       "max        100.000000\n",
       "Name: rougher.output.recovery, dtype: float64"
      ]
     },
     "execution_count": 76,
     "metadata": {},
     "output_type": "execute_result"
    }
   ],
   "source": [
    "train_data['rougher.output.recovery'].describe()"
   ]
  },
  {
   "cell_type": "code",
   "execution_count": 77,
   "metadata": {},
   "outputs": [
    {
     "data": {
      "text/plain": [
       "count    14287.000000\n",
       "mean        82.394201\n",
       "std         15.096808\n",
       "min         -0.000000\n",
       "25%         79.818372\n",
       "50%         85.235997\n",
       "75%         90.131691\n",
       "max        100.000000\n",
       "Name: calculated_rougher_recovery, dtype: float64"
      ]
     },
     "execution_count": 77,
     "metadata": {},
     "output_type": "execute_result"
    }
   ],
   "source": [
    "train_data['calculated_rougher_recovery'].describe()"
   ]
  },
  {
   "cell_type": "code",
   "execution_count": 79,
   "metadata": {},
   "outputs": [
    {
     "data": {
      "text/plain": [
       "9.444891926100695e-15"
      ]
     },
     "execution_count": 79,
     "metadata": {},
     "output_type": "execute_result"
    }
   ],
   "source": [
    "mae=mean_absolute_error(train_data['rougher.output.recovery'].dropna(),train_data['calculated_rougher_recovery'].dropna())\n",
    "mae"
   ]
  },
  {
   "cell_type": "markdown",
   "metadata": {},
   "source": [
    "The difference between calculated recovery value and given recovery value is negligible hence we conclude that rougher output recovery is calculated correctly. "
   ]
  },
  {
   "cell_type": "code",
   "execution_count": 80,
   "metadata": {},
   "outputs": [],
   "source": [
    "train_data=train_data.drop('calculated_rougher_recovery',axis=1)"
   ]
  },
  {
   "cell_type": "markdown",
   "metadata": {},
   "source": [
    "### Features missing from test dataset"
   ]
  },
  {
   "cell_type": "code",
   "execution_count": 81,
   "metadata": {},
   "outputs": [],
   "source": [
    "s1=set(train_data.columns)\n",
    "s2=set(test_data.columns)\n",
    "m=s1-s2"
   ]
  },
  {
   "cell_type": "code",
   "execution_count": 82,
   "metadata": {},
   "outputs": [
    {
     "data": {
      "text/html": [
       "<div>\n",
       "<style scoped>\n",
       "    .dataframe tbody tr th:only-of-type {\n",
       "        vertical-align: middle;\n",
       "    }\n",
       "\n",
       "    .dataframe tbody tr th {\n",
       "        vertical-align: top;\n",
       "    }\n",
       "\n",
       "    .dataframe thead th {\n",
       "        text-align: right;\n",
       "    }\n",
       "</style>\n",
       "<table border=\"1\" class=\"dataframe\">\n",
       "  <thead>\n",
       "    <tr style=\"text-align: right;\">\n",
       "      <th></th>\n",
       "      <th>final.output.concentrate_pb</th>\n",
       "      <th>rougher.output.tail_pb</th>\n",
       "      <th>primary_cleaner.output.tail_sol</th>\n",
       "      <th>rougher.output.recovery</th>\n",
       "      <th>rougher.output.tail_ag</th>\n",
       "      <th>final.output.tail_ag</th>\n",
       "      <th>final.output.concentrate_sol</th>\n",
       "      <th>primary_cleaner.output.concentrate_pb</th>\n",
       "      <th>rougher.calculation.au_pb_ratio</th>\n",
       "      <th>primary_cleaner.output.concentrate_ag</th>\n",
       "      <th>...</th>\n",
       "      <th>secondary_cleaner.output.tail_pb</th>\n",
       "      <th>final.output.concentrate_ag</th>\n",
       "      <th>rougher.output.concentrate_pb</th>\n",
       "      <th>primary_cleaner.output.concentrate_sol</th>\n",
       "      <th>rougher.output.tail_sol</th>\n",
       "      <th>secondary_cleaner.output.tail_au</th>\n",
       "      <th>final.output.tail_au</th>\n",
       "      <th>secondary_cleaner.output.tail_sol</th>\n",
       "      <th>primary_cleaner.output.tail_au</th>\n",
       "      <th>final.output.concentrate_au</th>\n",
       "    </tr>\n",
       "  </thead>\n",
       "  <tbody>\n",
       "    <tr>\n",
       "      <td>0</td>\n",
       "      <td>9.889648</td>\n",
       "      <td>0.508728</td>\n",
       "      <td>7.476074</td>\n",
       "      <td>87.107763</td>\n",
       "      <td>5.008018</td>\n",
       "      <td>10.411962</td>\n",
       "      <td>5.507324</td>\n",
       "      <td>10.389648</td>\n",
       "      <td>2.838687</td>\n",
       "      <td>8.547551</td>\n",
       "      <td>...</td>\n",
       "      <td>4.694824</td>\n",
       "      <td>6.055403</td>\n",
       "      <td>7.101074</td>\n",
       "      <td>19.529297</td>\n",
       "      <td>19.154297</td>\n",
       "      <td>2.606185</td>\n",
       "      <td>2.143149</td>\n",
       "      <td>8.764648</td>\n",
       "      <td>2.106679</td>\n",
       "      <td>42.192020</td>\n",
       "    </tr>\n",
       "    <tr>\n",
       "      <td>1</td>\n",
       "      <td>9.968944</td>\n",
       "      <td>0.536689</td>\n",
       "      <td>6.733907</td>\n",
       "      <td>86.843261</td>\n",
       "      <td>4.955378</td>\n",
       "      <td>10.462676</td>\n",
       "      <td>5.257781</td>\n",
       "      <td>10.497069</td>\n",
       "      <td>2.858998</td>\n",
       "      <td>8.558743</td>\n",
       "      <td>...</td>\n",
       "      <td>4.592547</td>\n",
       "      <td>6.029369</td>\n",
       "      <td>7.278807</td>\n",
       "      <td>19.369147</td>\n",
       "      <td>18.965234</td>\n",
       "      <td>2.488248</td>\n",
       "      <td>2.224930</td>\n",
       "      <td>9.001494</td>\n",
       "      <td>2.353017</td>\n",
       "      <td>42.701629</td>\n",
       "    </tr>\n",
       "    <tr>\n",
       "      <td>2</td>\n",
       "      <td>10.213995</td>\n",
       "      <td>0.546416</td>\n",
       "      <td>6.471768</td>\n",
       "      <td>86.842308</td>\n",
       "      <td>4.843460</td>\n",
       "      <td>10.507046</td>\n",
       "      <td>5.383759</td>\n",
       "      <td>10.354494</td>\n",
       "      <td>2.945989</td>\n",
       "      <td>8.603505</td>\n",
       "      <td>...</td>\n",
       "      <td>4.624775</td>\n",
       "      <td>6.055926</td>\n",
       "      <td>7.216833</td>\n",
       "      <td>19.167579</td>\n",
       "      <td>18.808533</td>\n",
       "      <td>2.458187</td>\n",
       "      <td>2.257889</td>\n",
       "      <td>8.842896</td>\n",
       "      <td>2.416800</td>\n",
       "      <td>42.657501</td>\n",
       "    </tr>\n",
       "    <tr>\n",
       "      <td>3</td>\n",
       "      <td>9.977019</td>\n",
       "      <td>0.542525</td>\n",
       "      <td>6.843791</td>\n",
       "      <td>87.226430</td>\n",
       "      <td>4.655288</td>\n",
       "      <td>10.422762</td>\n",
       "      <td>4.858634</td>\n",
       "      <td>8.496563</td>\n",
       "      <td>3.002340</td>\n",
       "      <td>7.221879</td>\n",
       "      <td>...</td>\n",
       "      <td>4.482453</td>\n",
       "      <td>6.047977</td>\n",
       "      <td>7.175616</td>\n",
       "      <td>15.978538</td>\n",
       "      <td>19.330200</td>\n",
       "      <td>2.322062</td>\n",
       "      <td>2.146849</td>\n",
       "      <td>9.122857</td>\n",
       "      <td>2.262051</td>\n",
       "      <td>42.689819</td>\n",
       "    </tr>\n",
       "    <tr>\n",
       "      <td>4</td>\n",
       "      <td>10.142511</td>\n",
       "      <td>0.515438</td>\n",
       "      <td>6.550154</td>\n",
       "      <td>86.688794</td>\n",
       "      <td>4.552800</td>\n",
       "      <td>10.360302</td>\n",
       "      <td>4.939416</td>\n",
       "      <td>9.986786</td>\n",
       "      <td>3.169615</td>\n",
       "      <td>9.089428</td>\n",
       "      <td>...</td>\n",
       "      <td>4.470737</td>\n",
       "      <td>6.148599</td>\n",
       "      <td>7.240205</td>\n",
       "      <td>19.199864</td>\n",
       "      <td>19.267422</td>\n",
       "      <td>2.330448</td>\n",
       "      <td>2.055292</td>\n",
       "      <td>8.871028</td>\n",
       "      <td>2.277073</td>\n",
       "      <td>42.774141</td>\n",
       "    </tr>\n",
       "  </tbody>\n",
       "</table>\n",
       "<p>5 rows × 34 columns</p>\n",
       "</div>"
      ],
      "text/plain": [
       "   final.output.concentrate_pb  rougher.output.tail_pb  \\\n",
       "0                     9.889648                0.508728   \n",
       "1                     9.968944                0.536689   \n",
       "2                    10.213995                0.546416   \n",
       "3                     9.977019                0.542525   \n",
       "4                    10.142511                0.515438   \n",
       "\n",
       "   primary_cleaner.output.tail_sol  rougher.output.recovery  \\\n",
       "0                         7.476074                87.107763   \n",
       "1                         6.733907                86.843261   \n",
       "2                         6.471768                86.842308   \n",
       "3                         6.843791                87.226430   \n",
       "4                         6.550154                86.688794   \n",
       "\n",
       "   rougher.output.tail_ag  final.output.tail_ag  final.output.concentrate_sol  \\\n",
       "0                5.008018             10.411962                      5.507324   \n",
       "1                4.955378             10.462676                      5.257781   \n",
       "2                4.843460             10.507046                      5.383759   \n",
       "3                4.655288             10.422762                      4.858634   \n",
       "4                4.552800             10.360302                      4.939416   \n",
       "\n",
       "   primary_cleaner.output.concentrate_pb  rougher.calculation.au_pb_ratio  \\\n",
       "0                              10.389648                         2.838687   \n",
       "1                              10.497069                         2.858998   \n",
       "2                              10.354494                         2.945989   \n",
       "3                               8.496563                         3.002340   \n",
       "4                               9.986786                         3.169615   \n",
       "\n",
       "   primary_cleaner.output.concentrate_ag  ...  \\\n",
       "0                               8.547551  ...   \n",
       "1                               8.558743  ...   \n",
       "2                               8.603505  ...   \n",
       "3                               7.221879  ...   \n",
       "4                               9.089428  ...   \n",
       "\n",
       "   secondary_cleaner.output.tail_pb  final.output.concentrate_ag  \\\n",
       "0                          4.694824                     6.055403   \n",
       "1                          4.592547                     6.029369   \n",
       "2                          4.624775                     6.055926   \n",
       "3                          4.482453                     6.047977   \n",
       "4                          4.470737                     6.148599   \n",
       "\n",
       "   rougher.output.concentrate_pb  primary_cleaner.output.concentrate_sol  \\\n",
       "0                       7.101074                               19.529297   \n",
       "1                       7.278807                               19.369147   \n",
       "2                       7.216833                               19.167579   \n",
       "3                       7.175616                               15.978538   \n",
       "4                       7.240205                               19.199864   \n",
       "\n",
       "   rougher.output.tail_sol  secondary_cleaner.output.tail_au  \\\n",
       "0                19.154297                          2.606185   \n",
       "1                18.965234                          2.488248   \n",
       "2                18.808533                          2.458187   \n",
       "3                19.330200                          2.322062   \n",
       "4                19.267422                          2.330448   \n",
       "\n",
       "   final.output.tail_au  secondary_cleaner.output.tail_sol  \\\n",
       "0              2.143149                           8.764648   \n",
       "1              2.224930                           9.001494   \n",
       "2              2.257889                           8.842896   \n",
       "3              2.146849                           9.122857   \n",
       "4              2.055292                           8.871028   \n",
       "\n",
       "   primary_cleaner.output.tail_au  final.output.concentrate_au  \n",
       "0                        2.106679                    42.192020  \n",
       "1                        2.353017                    42.701629  \n",
       "2                        2.416800                    42.657501  \n",
       "3                        2.262051                    42.689819  \n",
       "4                        2.277073                    42.774141  \n",
       "\n",
       "[5 rows x 34 columns]"
      ]
     },
     "execution_count": 82,
     "metadata": {},
     "output_type": "execute_result"
    }
   ],
   "source": [
    "train_data[m].head()"
   ]
  },
  {
   "cell_type": "code",
   "execution_count": 83,
   "metadata": {},
   "outputs": [
    {
     "name": "stdout",
     "output_type": "stream",
     "text": [
      "<class 'pandas.core.frame.DataFrame'>\n",
      "RangeIndex: 16860 entries, 0 to 16859\n",
      "Data columns (total 34 columns):\n",
      "final.output.concentrate_pb                           16788 non-null float64\n",
      "rougher.output.tail_pb                                16778 non-null float64\n",
      "primary_cleaner.output.tail_sol                       16579 non-null float64\n",
      "rougher.output.recovery                               14287 non-null float64\n",
      "rougher.output.tail_ag                                14610 non-null float64\n",
      "final.output.tail_ag                                  16794 non-null float64\n",
      "final.output.concentrate_sol                          16490 non-null float64\n",
      "primary_cleaner.output.concentrate_pb                 16502 non-null float64\n",
      "rougher.calculation.au_pb_ratio                       15618 non-null float64\n",
      "primary_cleaner.output.concentrate_ag                 16778 non-null float64\n",
      "primary_cleaner.output.tail_ag                        16777 non-null float64\n",
      "rougher.calculation.sulfate_to_au_concentrate         16833 non-null float64\n",
      "rougher.output.concentrate_au                         16778 non-null float64\n",
      "final.output.tail_sol                                 16715 non-null float64\n",
      "primary_cleaner.output.tail_pb                        16761 non-null float64\n",
      "final.output.tail_pb                                  16677 non-null float64\n",
      "rougher.calculation.floatbank10_sulfate_to_au_feed    16833 non-null float64\n",
      "rougher.calculation.floatbank11_sulfate_to_au_feed    16833 non-null float64\n",
      "rougher.output.concentrate_ag                         16778 non-null float64\n",
      "rougher.output.tail_au                                14611 non-null float64\n",
      "primary_cleaner.output.concentrate_au                 16778 non-null float64\n",
      "final.output.recovery                                 15339 non-null float64\n",
      "rougher.output.concentrate_sol                        16698 non-null float64\n",
      "secondary_cleaner.output.tail_ag                      16776 non-null float64\n",
      "secondary_cleaner.output.tail_pb                      16764 non-null float64\n",
      "final.output.concentrate_ag                           16788 non-null float64\n",
      "rougher.output.concentrate_pb                         16778 non-null float64\n",
      "primary_cleaner.output.concentrate_sol                16224 non-null float64\n",
      "rougher.output.tail_sol                               14611 non-null float64\n",
      "secondary_cleaner.output.tail_au                      16778 non-null float64\n",
      "final.output.tail_au                                  16794 non-null float64\n",
      "secondary_cleaner.output.tail_sol                     14874 non-null float64\n",
      "primary_cleaner.output.tail_au                        16777 non-null float64\n",
      "final.output.concentrate_au                           16789 non-null float64\n",
      "dtypes: float64(34)\n",
      "memory usage: 4.4 MB\n"
     ]
    }
   ],
   "source": [
    "train_data[m].info()"
   ]
  },
  {
   "cell_type": "markdown",
   "metadata": {},
   "source": [
    "test dataset does not contain the output concentrate and tail from all the filtration processes i.e rougher output,primary cleaner output, secondary cleaner output and the final output. All these missing features have float data type."
   ]
  },
  {
   "cell_type": "markdown",
   "metadata": {},
   "source": [
    "### Preprocessing Data "
   ]
  },
  {
   "cell_type": "code",
   "execution_count": 85,
   "metadata": {},
   "outputs": [],
   "source": [
    "train_data.fillna(method='ffill',inplace=True)                     #filling missing values\n",
    "test_data.fillna(method='ffill',inplace=True)\n",
    "full_data.fillna(method='ffill',inplace=True)"
   ]
  },
  {
   "cell_type": "code",
   "execution_count": 86,
   "metadata": {},
   "outputs": [],
   "source": [
    "train_data['date']=pd.to_datetime(train_data['date'],format='%Y-%m-%d %H:%M:%S')          #converting date to pandas datetime\n",
    "full_data['date']=pd.to_datetime(full_data['date'],format='%Y-%m-%d %H:%M:%S')\n",
    "test_data['date']=pd.to_datetime(test_data['date'],format='%Y-%m-%d %H:%M:%S')"
   ]
  },
  {
   "cell_type": "markdown",
   "metadata": {},
   "source": [
    "### Change in concentration of metals at different stages"
   ]
  },
  {
   "cell_type": "code",
   "execution_count": 87,
   "metadata": {},
   "outputs": [
    {
     "data": {
      "text/plain": [
       "Text(0.5, 1.0, 'Ag')"
      ]
     },
     "execution_count": 87,
     "metadata": {},
     "output_type": "execute_result"
    },
    {
     "data": {
      "image/png": "[encoded data removed]",
      "text/plain": [
       "<Figure size 720x576 with 1 Axes>"
      ]
     },
     "metadata": {
      "needs_background": "light"
     },
     "output_type": "display_data"
    }
   ],
   "source": [
    "plt.figure(figsize=(10,8))\n",
    "ax=train_data['rougher.input.feed_ag'].hist()\n",
    "train_data['rougher.output.concentrate_ag'].hist(ax=ax,alpha=0.4)\n",
    "train_data['primary_cleaner.output.concentrate_ag'].hist(ax=ax,alpha=0.5)\n",
    "train_data['final.output.concentrate_ag'].hist(ax=ax,alpha=0.6)\n",
    "ax.legend(('rougher_input','rougher_output','primary_cleaner_output', 'final_output'), fontsize=10,fancybox=True)\n",
    "plt.title('Ag')"
   ]
  },
  {
   "cell_type": "markdown",
   "metadata": {},
   "source": [
    "For majority the concentration of silver is decreasing from rougher input to final output."
   ]
  },
  {
   "cell_type": "code",
   "execution_count": 88,
   "metadata": {},
   "outputs": [
    {
     "data": {
      "text/plain": [
       "Text(0.5, 1.0, 'Au')"
      ]
     },
     "execution_count": 88,
     "metadata": {},
     "output_type": "execute_result"
    },
    {
     "data": {
      "image/png": "[encoded data removed]",
      "text/plain": [
       "<Figure size 720x576 with 1 Axes>"
      ]
     },
     "metadata": {
      "needs_background": "light"
     },
     "output_type": "display_data"
    }
   ],
   "source": [
    "plt.figure(figsize=(10,8))\n",
    "axi=train_data['rougher.input.feed_au'].hist()\n",
    "train_data['rougher.output.concentrate_au'].hist(ax=axi,alpha=0.4)\n",
    "train_data['primary_cleaner.output.concentrate_au'].hist(ax=axi,alpha=0.5)\n",
    "train_data['final.output.concentrate_au'].hist(ax=axi,alpha=0.6)\n",
    "axi.legend(('rougher_input','rougher_output','primary_cleaner_output', 'final_output'), fontsize=10,fancybox=True)\n",
    "plt.title('Au')"
   ]
  },
  {
   "cell_type": "markdown",
   "metadata": {},
   "source": [
    "The majority concentration of gold increases after successive purification as it should. "
   ]
  },
  {
   "cell_type": "code",
   "execution_count": 89,
   "metadata": {},
   "outputs": [
    {
     "data": {
      "image/png": "[encoded data removed]",
      "text/plain": [
       "<Figure size 720x576 with 1 Axes>"
      ]
     },
     "metadata": {
      "needs_background": "light"
     },
     "output_type": "display_data"
    }
   ],
   "source": [
    "plt.figure(figsize=(10,8))\n",
    "axis=train_data['rougher.input.feed_pb'].hist()\n",
    "train_data['rougher.output.concentrate_pb'].hist(ax=axis)\n",
    "train_data['primary_cleaner.output.concentrate_pb'].hist(ax=axis)\n",
    "train_data['final.output.concentrate_pb'].hist(ax=axis,alpha=0.6)\n",
    "axis.legend(('rougher_input','rougher_output','primary_cleaner_output', 'final_output'), fontsize=10,fancybox=True)\n",
    "#axis.fig(8,6)\n",
    "plt.title('Pb')\n",
    "plt.show()"
   ]
  },
  {
   "cell_type": "markdown",
   "metadata": {},
   "source": [
    "The majority concentration of lead seems to increase with successive purification."
   ]
  },
  {
   "cell_type": "markdown",
   "metadata": {},
   "source": [
    "### Distribution of feed particle size in train and test dataset "
   ]
  },
  {
   "cell_type": "code",
   "execution_count": 90,
   "metadata": {},
   "outputs": [
    {
     "data": {
      "text/plain": [
       "Text(0.5, 1.0, 'Distribution of feed paticle size in train and test dataset')"
      ]
     },
     "execution_count": 90,
     "metadata": {},
     "output_type": "execute_result"
    },
    {
     "data": {
      "image/png": "[encoded data removed]",
      "text/plain": [
       "<Figure size 576x432 with 1 Axes>"
      ]
     },
     "metadata": {
      "needs_background": "light"
     },
     "output_type": "display_data"
    }
   ],
   "source": [
    "ax=train_data['rougher.input.feed_size'].hist(figsize=(8,6),color='y',grid=True,bins=100,range=(0,200))\n",
    "test_data['rougher.input.feed_size'].hist(figsize=(8,6),grid=True,bins=100,ax=ax,range=(0,200))\n",
    "ax.legend(('train data rougher feed size','test data rougher feed size'))\n",
    "plt.title('Distribution of feed paticle size in train and test dataset')\n",
    "#plt.ylabel('Feed particle size in train dataset')"
   ]
  },
  {
   "cell_type": "markdown",
   "metadata": {},
   "source": [
    "The size of feed particle lies in the same range and has similar distribution for both train and test dataset."
   ]
  },
  {
   "cell_type": "code",
   "execution_count": 91,
   "metadata": {},
   "outputs": [
    {
     "data": {
      "text/plain": [
       "count    16860.000000\n",
       "mean        60.188595\n",
       "std         30.522242\n",
       "min          9.659576\n",
       "25%         47.548897\n",
       "50%         54.066003\n",
       "75%         65.397249\n",
       "max        484.967466\n",
       "Name: rougher.input.feed_size, dtype: float64"
      ]
     },
     "execution_count": 91,
     "metadata": {},
     "output_type": "execute_result"
    }
   ],
   "source": [
    "train_data['rougher.input.feed_size'].describe()"
   ]
  },
  {
   "cell_type": "code",
   "execution_count": 92,
   "metadata": {},
   "outputs": [
    {
     "data": {
      "text/plain": [
       "count    5856.000000\n",
       "mean       55.898866\n",
       "std        22.707969\n",
       "min         0.046369\n",
       "25%        43.852884\n",
       "50%        49.964796\n",
       "75%        61.628003\n",
       "max       477.445473\n",
       "Name: rougher.input.feed_size, dtype: float64"
      ]
     },
     "execution_count": 92,
     "metadata": {},
     "output_type": "execute_result"
    }
   ],
   "source": [
    "test_data['rougher.input.feed_size'].describe()"
   ]
  },
  {
   "cell_type": "markdown",
   "metadata": {},
   "source": [
    "The feed particle size in train and test set has approximately the same distribution."
   ]
  },
  {
   "cell_type": "markdown",
   "metadata": {},
   "source": [
    "### Finding anomalies in distribution of total concentration of all substances at different stages"
   ]
  },
  {
   "cell_type": "code",
   "execution_count": 93,
   "metadata": {},
   "outputs": [
    {
     "data": {
      "text/plain": [
       "Text(0, 0.5, 'Feed Total')"
      ]
     },
     "execution_count": 93,
     "metadata": {},
     "output_type": "execute_result"
    },
    {
     "data": {
      "image/png": "[encoded data removed]",
      "text/plain": [
       "<Figure size 576x432 with 1 Axes>"
      ]
     },
     "metadata": {
      "needs_background": "light"
     },
     "output_type": "display_data"
    }
   ],
   "source": [
    "full_data['feed_total']=(full_data['rougher.input.feed_ag']+full_data['rougher.input.feed_au']+\n",
    "  full_data['rougher.input.feed_pb']+full_data['rougher.input.feed_sol'])\n",
    "full_data['feed_total'].plot(kind='hist',figsize=(8,6),grid=True,bins=15)\n",
    "plt.ylabel(\"Feed Total\")"
   ]
  },
  {
   "cell_type": "code",
   "execution_count": 94,
   "metadata": {},
   "outputs": [
    {
     "data": {
      "text/plain": [
       "Text(0, 0.5, 'Rougher concentrate total')"
      ]
     },
     "execution_count": 94,
     "metadata": {},
     "output_type": "execute_result"
    },
    {
     "data": {
      "image/png": "[encoded data removed]",
      "text/plain": [
       "<Figure size 576x432 with 1 Axes>"
      ]
     },
     "metadata": {
      "needs_background": "light"
     },
     "output_type": "display_data"
    }
   ],
   "source": [
    "full_data['rougher_concentrate_total']=(full_data['rougher.output.concentrate_ag']+full_data['rougher.output.concentrate_au']+\n",
    "  full_data['rougher.output.concentrate_pb']+full_data['rougher.output.concentrate_sol'])\n",
    "full_data['rougher_concentrate_total'].hist(figsize=(8,6),bins=15)\n",
    "plt.ylabel(\"Rougher concentrate total\")"
   ]
  },
  {
   "cell_type": "code",
   "execution_count": 95,
   "metadata": {},
   "outputs": [
    {
     "data": {
      "text/plain": [
       "Text(0, 0.5, 'Final concentrate total')"
      ]
     },
     "execution_count": 95,
     "metadata": {},
     "output_type": "execute_result"
    },
    {
     "data": {
      "image/png": "[encoded data removed]",
      "text/plain": [
       "<Figure size 576x432 with 1 Axes>"
      ]
     },
     "metadata": {
      "needs_background": "light"
     },
     "output_type": "display_data"
    }
   ],
   "source": [
    "full_data['final_concentrate_total']=(full_data['final.output.concentrate_ag']+full_data['final.output.concentrate_au']+\n",
    " full_data['final.output.concentrate_pb']+full_data['final.output.concentrate_sol'])\n",
    "full_data['final_concentrate_total'].hist(figsize=(8,6),bins=15)\n",
    "plt.ylabel(\"Final concentrate total\")"
   ]
  },
  {
   "cell_type": "markdown",
   "metadata": {},
   "source": [
    "We notice that in all 3 graphs the number of values close to 0 is high i.e the total concentration is close to 0. Having 0 concentration does not make sense because then we cannot recover a profitable amount hence we will remove these values"
   ]
  },
  {
   "cell_type": "code",
   "execution_count": 96,
   "metadata": {},
   "outputs": [
    {
     "data": {
      "text/plain": [
       "date                                          0.103321\n",
       "final.output.concentrate_ag                   0.103321\n",
       "final.output.concentrate_pb                   0.103321\n",
       "final.output.concentrate_sol                  0.103321\n",
       "final.output.concentrate_au                   0.103321\n",
       "                                                ...   \n",
       "secondary_cleaner.state.floatbank5_a_level    0.103321\n",
       "secondary_cleaner.state.floatbank5_b_air      0.103321\n",
       "secondary_cleaner.state.floatbank5_b_level    0.103321\n",
       "secondary_cleaner.state.floatbank6_a_air      0.103321\n",
       "secondary_cleaner.state.floatbank6_a_level    0.103321\n",
       "Length: 87, dtype: float64"
      ]
     },
     "execution_count": 96,
     "metadata": {},
     "output_type": "execute_result"
    }
   ],
   "source": [
    "(train_data[(train_data['final.output.concentrate_ag']+train_data['final.output.concentrate_au']+\n",
    "            train_data['final.output.concentrate_pb']+train_data['final.output.concentrate_sol'])<=5]).count()/len(train_data)"
   ]
  },
  {
   "cell_type": "code",
   "execution_count": 97,
   "metadata": {},
   "outputs": [],
   "source": [
    "#removing values with total concentration less than 5 from train data set\n",
    "train_data=(train_data[(train_data['final.output.concentrate_ag']+train_data['final.output.concentrate_au']+\n",
    "            train_data['final.output.concentrate_pb']+train_data['final.output.concentrate_sol'])>5])"
   ]
  },
  {
   "cell_type": "code",
   "execution_count": 98,
   "metadata": {},
   "outputs": [
    {
     "data": {
      "text/plain": [
       "date                                          0.092534\n",
       "final.output.concentrate_ag                   0.092534\n",
       "final.output.concentrate_pb                   0.092534\n",
       "final.output.concentrate_sol                  0.092534\n",
       "final.output.concentrate_au                   0.092534\n",
       "                                                ...   \n",
       "secondary_cleaner.state.floatbank6_a_air      0.092534\n",
       "secondary_cleaner.state.floatbank6_a_level    0.092534\n",
       "feed_total                                    0.092534\n",
       "rougher_concentrate_total                     0.092534\n",
       "final_concentrate_total                       0.092534\n",
       "Length: 90, dtype: float64"
      ]
     },
     "execution_count": 98,
     "metadata": {},
     "output_type": "execute_result"
    }
   ],
   "source": [
    "#checking the size of anomalies in full dataset\n",
    "full_data[full_data['final_concentrate_total']<=5].count()/len(full_data)"
   ]
  },
  {
   "cell_type": "markdown",
   "metadata": {},
   "source": [
    "Removing anomalies from train data set is important because we will be training our model on this data and anomalies account for approx 10% of training dataset. For full dataset it accounts for 9% of the data so test data does not contain a significant amount of anomalies.So we decide not to remove them from test dataset"
   ]
  },
  {
   "cell_type": "code",
   "execution_count": 99,
   "metadata": {},
   "outputs": [],
   "source": [
    "full_data=full_data.drop(['feed_total','rougher_concentrate_total','final_concentrate_total'],axis=1)\n"
   ]
  },
  {
   "cell_type": "code",
   "execution_count": 100,
   "metadata": {},
   "outputs": [],
   "source": [
    "#creating a new test dataset which contains the target columns \n",
    "#i.e rougher.output.recovery and final.output.recovery by joining with full data set\n",
    "\n",
    "test_new=test_data.join(full_data.set_index('date')[['final.output.recovery','rougher.output.recovery']],on='date',how='left')"
   ]
  },
  {
   "cell_type": "code",
   "execution_count": 101,
   "metadata": {},
   "outputs": [
    {
     "data": {
      "text/plain": [
       "1.0"
      ]
     },
     "execution_count": 101,
     "metadata": {},
     "output_type": "execute_result"
    }
   ],
   "source": [
    "((test_new.set_index('date')['rougher.input.feed_au']==test_data.set_index('date')['rougher.input.feed_au']).sum()/\n",
    " test_data['rougher.input.feed_au'].count())"
   ]
  },
  {
   "cell_type": "markdown",
   "metadata": {},
   "source": [
    "### Building models "
   ]
  },
  {
   "cell_type": "code",
   "execution_count": 102,
   "metadata": {},
   "outputs": [
    {
     "name": "stdout",
     "output_type": "stream",
     "text": [
      "['rougher.input.feed_ag', 'rougher.input.feed_pb', 'rougher.input.feed_rate', 'rougher.input.feed_size', 'rougher.input.feed_sol', 'rougher.input.feed_au', 'rougher.input.floatbank10_sulfate', 'rougher.input.floatbank10_xanthate', 'rougher.input.floatbank11_sulfate', 'rougher.input.floatbank11_xanthate', 'rougher.state.floatbank10_a_air', 'rougher.state.floatbank10_a_level', 'rougher.state.floatbank10_b_air', 'rougher.state.floatbank10_b_level', 'rougher.state.floatbank10_c_air', 'rougher.state.floatbank10_c_level', 'rougher.state.floatbank10_d_air', 'rougher.state.floatbank10_d_level', 'rougher.state.floatbank10_e_air', 'rougher.state.floatbank10_e_level', 'rougher.state.floatbank10_f_air', 'rougher.state.floatbank10_f_level']\n"
     ]
    }
   ],
   "source": [
    "#storing the features required for rougher.output.recovery in a list\n",
    "features=[]\n",
    "for i in list(test_data.columns):\n",
    "    if 'rougher' in i:\n",
    "        features.append(i)\n",
    "print(features)        "
   ]
  },
  {
   "cell_type": "code",
   "execution_count": 113,
   "metadata": {},
   "outputs": [],
   "source": [
    "# defining smape function\n",
    "def smape(y,yhat):\n",
    "    \n",
    "    n=len(y)\n",
    "    d=(abs(y)+abs(yhat))/2\n",
    "    smape=(1/n)*(sum(abs(y-yhat)/d))*100\n",
    "    return smape\n",
    "score=make_scorer(smape,greater_is_better=False)\n"
   ]
  },
  {
   "cell_type": "code",
   "execution_count": 104,
   "metadata": {},
   "outputs": [
    {
     "data": {
      "text/plain": [
       "-14.227164939286112"
      ]
     },
     "execution_count": 104,
     "metadata": {},
     "output_type": "execute_result"
    }
   ],
   "source": [
    "#Linear Regression model for rougher recovery concentrate prediction\n",
    "\n",
    "features_rougher=train_data[features]\n",
    "y_rougher=train_data['rougher.output.recovery']\n",
    "scaler1=StandardScaler()\n",
    "scaler1.fit(features_rougher)\n",
    "features_rougher=scaler1.transform(features_rougher)\n",
    "\n",
    "model_rougher=LinearRegression()\n",
    "#model_rougher.fit(features_rougher,y_rougher)\n",
    "r_smape = cross_val_score(model_rougher,features_rougher,y_rougher,scoring=score,cv=5)\n",
    "r_smape.mean()"
   ]
  },
  {
   "cell_type": "code",
   "execution_count": 105,
   "metadata": {},
   "outputs": [
    {
     "name": "stderr",
     "output_type": "stream",
     "text": [
      "/opt/conda/lib/python3.7/site-packages/pandas/core/frame.py:4102: SettingWithCopyWarning: \n",
      "A value is trying to be set on a copy of a slice from a DataFrame\n",
      "\n",
      "See the caveats in the documentation: http://pandas.pydata.org/pandas-docs/stable/user_guide/indexing.html#returning-a-view-versus-a-copy\n",
      "  errors=errors,\n"
     ]
    },
    {
     "data": {
      "text/plain": [
       "-12.443197863540018"
      ]
     },
     "execution_count": 105,
     "metadata": {},
     "output_type": "execute_result"
    }
   ],
   "source": [
    "#Linear Regression model for final recovery concentrate prediction\n",
    "\n",
    "features_final=train_data[list(test_data.columns)]\n",
    "features_final.drop('date',axis=1,inplace=True)\n",
    "y_final=train_data['final.output.recovery']\n",
    "scaler2=StandardScaler()\n",
    "scaler2.fit(features_final)\n",
    "features_final=scaler2.transform(features_final)\n",
    "\n",
    "model_final=LinearRegression()\n",
    "#model_final.fit(features_final,y_final)\n",
    "f_smape=cross_val_score(model_final,features_final,y_final,scoring=score,cv=5)\n",
    "f_smape.mean()\n"
   ]
  },
  {
   "cell_type": "code",
   "execution_count": 106,
   "metadata": {},
   "outputs": [
    {
     "name": "stdout",
     "output_type": "stream",
     "text": [
      "Max depth 7   -12.66070801849476\n"
     ]
    }
   ],
   "source": [
    "#finding the right depth of tree for Random Forest Model for rougher recovery prediction\n",
    "mse=[]\n",
    "for i in range(3,10,1):\n",
    "    model_1=RandomForestRegressor(random_state=12345,n_estimators=20,max_depth=i)\n",
    "    #model_1.fit(features_rougher,y_rougher)\n",
    "    rougher_smape = cross_val_score(model_1,features_rougher,y_rougher,scoring=score,cv=5)\n",
    "    mse.append(rougher_smape.mean())\n",
    "print(\"Max depth\",mse.index(max(mse))+3,\" \",max(mse))"
   ]
  },
  {
   "cell_type": "code",
   "execution_count": 107,
   "metadata": {},
   "outputs": [
    {
     "name": "stdout",
     "output_type": "stream",
     "text": [
      "Max depth 5   -10.191519089837414\n"
     ]
    }
   ],
   "source": [
    "# finding tree depth for Random forest for final recovery prediction\n",
    "mse=[]\n",
    "for i in range(3,11,1):\n",
    "    model_2=RandomForestRegressor(random_state=12345,n_estimators=20,max_depth=i)\n",
    "    #model_2.fit(features_final,y_final)\n",
    "    final_smape=cross_val_score(model_2,features_final,y_final,scoring=score,cv=5)\n",
    "    mse.append(final_smape.mean())\n",
    "print(\"Max depth\",mse.index(max(mse))+3,\" \",max(mse))"
   ]
  },
  {
   "cell_type": "markdown",
   "metadata": {},
   "source": [
    "Tree depth with lowest rougher smape is 7 and with lowest final smape is 5.Also Random forest models have lower average smapes than Linear Regression models so we will use Random Forest for prediction "
   ]
  },
  {
   "cell_type": "code",
   "execution_count": 108,
   "metadata": {},
   "outputs": [
    {
     "name": "stdout",
     "output_type": "stream",
     "text": [
      "n_estimators 4   -12.66070801849476\n"
     ]
    }
   ],
   "source": [
    "# finding the number of trees \n",
    "mse=[]\n",
    "for i in range(10,60,10):\n",
    "    model_1=RandomForestRegressor(random_state=12345,n_estimators=i,max_depth=7)\n",
    "    #model_1.fit(features_rougher,y_rougher)\n",
    "    rougher_smape = cross_val_score(model_1,features_rougher,y_rougher,scoring=score,cv=5)\n",
    "    mse.append(rougher_smape.mean())\n",
    "print(\"n_estimators\",mse.index(max(mse))*10+10,\" \",max(mse))"
   ]
  },
  {
   "cell_type": "code",
   "execution_count": 114,
   "metadata": {},
   "outputs": [
    {
     "name": "stdout",
     "output_type": "stream",
     "text": [
      "n_estimators 40   -10.109543809836378\n"
     ]
    }
   ],
   "source": [
    "mse=[]\n",
    "for i in range(10,80,10):\n",
    "    model_2=RandomForestRegressor(random_state=12345,n_estimators=i,max_depth=5)\n",
    "    #model_2.fit(features_final,y_final)\n",
    "    final_smape=cross_val_score(model_2,features_final,y_final,scoring=score,cv=5)\n",
    "    mse.append(final_smape.mean())\n",
    "print(\"n_estimators\",mse.index(max(mse))*10+10,\" \",max(mse))"
   ]
  },
  {
   "cell_type": "code",
   "execution_count": 110,
   "metadata": {},
   "outputs": [
    {
     "name": "stdout",
     "output_type": "stream",
     "text": [
      "smape for rougher recovery -12.66070801849476\n",
      "smape for final recovery -10.109543809836378\n",
      "final smape -10.747334862000974\n"
     ]
    }
   ],
   "source": [
    "#fitting Random forest with tuned hyperparameters\n",
    "model_rougher=RandomForestRegressor(random_state=12345,n_estimators=20,max_depth=7)\n",
    "model_rougher.fit(features_rougher,y_rougher)\n",
    "\n",
    "rougher_smape = cross_val_score(model_rougher,features_rougher,y_rougher,scoring=score,cv=5)\n",
    "\n",
    "model_final=RandomForestRegressor(random_state=12345,n_estimators=40,max_depth=5)\n",
    "model_final.fit(features_final,y_final)\n",
    "\n",
    "final_smape=cross_val_score(model_final,features_final,y_final,scoring=score,cv=5)\n",
    "\n",
    "print(\"smape for rougher recovery\",rougher_smape.mean())\n",
    "print(\"smape for final recovery\",final_smape.mean())\n",
    "\n",
    "final_score=0.25*rougher_smape+0.75*final_smape\n",
    "print(\"final smape\",final_score.mean())\n",
    "    "
   ]
  },
  {
   "cell_type": "markdown",
   "metadata": {},
   "source": [
    "### The best model "
   ]
  },
  {
   "cell_type": "code",
   "execution_count": 111,
   "metadata": {},
   "outputs": [
    {
     "name": "stdout",
     "output_type": "stream",
     "text": [
      "11.498816054504523\n"
     ]
    }
   ],
   "source": [
    "#final weighted smape for predicted recovery values of rougher and final concentrate using Random Forest Model \n",
    "features_r=test_data[features]\n",
    "features_r=scaler1.transform(features_r)\n",
    "y_r=test_new['rougher.output.recovery']\n",
    "\n",
    "features_f=test_data.drop('date',axis=1)\n",
    "features_f=scaler2.transform(features_f)\n",
    "y_f=test_new['final.output.recovery']\n",
    "\n",
    "r_smape=smape(y_r,model_rougher.predict(features_r))\n",
    "f_smape=smape(y_f,model_final.predict(features_f))\n",
    "score=0.25*r_smape+0.75*f_smape\n",
    "print(score)"
   ]
  },
  {
   "cell_type": "code",
   "execution_count": 161,
   "metadata": {},
   "outputs": [
    {
     "name": "stdout",
     "output_type": "stream",
     "text": [
      "12.762239853191588\n"
     ]
    }
   ],
   "source": [
    "#Sanity check\n",
    "clf_r=DummyRegressor()\n",
    "clf_r.fit(features_rougher,y_rougher)\n",
    "clf_f=DummyRegressor()\n",
    "clf_f.fit(features_final,y_final)\n",
    "r_smape=smape(y_r,clf_r.predict(features_r))\n",
    "f_smape=smape(y_f,clf_f.predict(features_f))\n",
    "score=0.25*r_smape+0.75*f_smape\n",
    "print(score)\n",
    "#cross_validate(clf_r,features_r,y_r,clf_f,features_f,y_f) "
   ]
  },
  {
   "cell_type": "markdown",
   "metadata": {},
   "source": [
    "Since the value of smape for fitted model is lower than baseline model which predicts mean of training dataset.Our model can be used for rougher recovery and final recovery prediction."
   ]
  }
 ],
 "metadata": {
  "kernelspec": {
   "display_name": "Python 3",
   "language": "python",
   "name": "python3"
  },
  "language_info": {
   "codemirror_mode": {
    "name": "ipython",
    "version": 3
   },
   "file_extension": ".py",
   "mimetype": "text/x-python",
   "name": "python",
   "nbconvert_exporter": "python",
   "pygments_lexer": "ipython3",
   "version": "3.7.0"
  }
 },
 "nbformat": 4,
 "nbformat_minor": 2
}
